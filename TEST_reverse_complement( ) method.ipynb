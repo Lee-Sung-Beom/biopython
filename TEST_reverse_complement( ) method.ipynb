{
 "cells": [
  {
   "cell_type": "code",
   "execution_count": 1,
   "id": "00ed3cb3",
   "metadata": {},
   "outputs": [],
   "source": [
    "from Bio.Seq import Seq\n",
    "tatabox_seq = Seq(\"tataaaggc\")"
   ]
  },
  {
   "cell_type": "code",
   "execution_count": 2,
   "id": "c716a09a",
   "metadata": {},
   "outputs": [
    {
     "name": "stdout",
     "output_type": "stream",
     "text": [
      "tataaaggc\n"
     ]
    }
   ],
   "source": [
    "print(tatabox_seq)"
   ]
  },
  {
   "cell_type": "code",
   "execution_count": 4,
   "id": "85ef5a48",
   "metadata": {},
   "outputs": [],
   "source": [
    "re_tatabox_seq = Seq.reverse_complement(tatabox_seq)"
   ]
  },
  {
   "cell_type": "code",
   "execution_count": 5,
   "id": "9de0c0e8",
   "metadata": {},
   "outputs": [
    {
     "name": "stdout",
     "output_type": "stream",
     "text": [
      "gcctttata\n"
     ]
    }
   ],
   "source": [
    "print(re_tatabox_seq)"
   ]
  },
  {
   "cell_type": "code",
   "execution_count": 6,
   "id": "ac55a644",
   "metadata": {},
   "outputs": [],
   "source": [
    "com_tatabox_seq = Seq.complement(tatabox_seq)"
   ]
  },
  {
   "cell_type": "code",
   "execution_count": 7,
   "id": "59b3e0a4",
   "metadata": {},
   "outputs": [
    {
     "name": "stdout",
     "output_type": "stream",
     "text": [
      "atatttccg\n"
     ]
    }
   ],
   "source": [
    "print(com_tatabox_seq)"
   ]
  },
  {
   "cell_type": "code",
   "execution_count": null,
   "id": "4648081b",
   "metadata": {},
   "outputs": [],
   "source": []
  }
 ],
 "metadata": {
  "kernelspec": {
   "display_name": "Python 3 (ipykernel)",
   "language": "python",
   "name": "python3"
  },
  "language_info": {
   "codemirror_mode": {
    "name": "ipython",
    "version": 3
   },
   "file_extension": ".py",
   "mimetype": "text/x-python",
   "name": "python",
   "nbconvert_exporter": "python",
   "pygments_lexer": "ipython3",
   "version": "3.9.12"
  }
 },
 "nbformat": 4,
 "nbformat_minor": 5
}
