{
 "cells": [
  {
   "cell_type": "code",
   "execution_count": 2,
   "id": "c1a370ce",
   "metadata": {},
   "outputs": [],
   "source": [
    "from Bio.Seq import Seq"
   ]
  },
  {
   "cell_type": "code",
   "execution_count": 3,
   "id": "e5fa6427",
   "metadata": {},
   "outputs": [],
   "source": [
    "DNA_Seq = Seq(\"attacgc\")\n",
    "count_a = DNA_Seq.count(\"a\")"
   ]
  },
  {
   "cell_type": "code",
   "execution_count": 4,
   "id": "14e173bc",
   "metadata": {},
   "outputs": [
    {
     "name": "stdout",
     "output_type": "stream",
     "text": [
      "2\n"
     ]
    }
   ],
   "source": [
    "print(count_a)"
   ]
  },
  {
   "cell_type": "code",
   "execution_count": 6,
   "id": "d98caecd",
   "metadata": {},
   "outputs": [],
   "source": [
    "count_g = DNA_Seq.count(\"g\")\n",
    "count_c = DNA_Seq.count(\"C\")\n",
    "gc_con = (count_g + count_c) / len(DNA_Seq) * 100"
   ]
  },
  {
   "cell_type": "code",
   "execution_count": 7,
   "id": "2e91bade",
   "metadata": {},
   "outputs": [
    {
     "name": "stdout",
     "output_type": "stream",
     "text": [
      "14.285714285714285\n"
     ]
    }
   ],
   "source": [
    "print(gc_con)"
   ]
  },
  {
   "cell_type": "code",
   "execution_count": 8,
   "id": "1a0d757f",
   "metadata": {},
   "outputs": [],
   "source": [
    "tatabox_Seq = Seq(\"tataaaggcAATATGC\")"
   ]
  },
  {
   "cell_type": "code",
   "execution_count": 10,
   "id": "146de23c",
   "metadata": {},
   "outputs": [
    {
     "name": "stdout",
     "output_type": "stream",
     "text": [
      "tataaaggcaatatgc\n"
     ]
    }
   ],
   "source": [
    "print(tatabox_Seq.lower())"
   ]
  },
  {
   "cell_type": "code",
   "execution_count": 11,
   "id": "9df2de3f",
   "metadata": {},
   "outputs": [],
   "source": [
    "DNA = Seq(\"ATGCAGTAG\")"
   ]
  },
  {
   "cell_type": "code",
   "execution_count": 12,
   "id": "a6ba17c8",
   "metadata": {},
   "outputs": [],
   "source": [
    "mRNA = DNA.transcribe()"
   ]
  },
  {
   "cell_type": "code",
   "execution_count": 13,
   "id": "16a4a44b",
   "metadata": {},
   "outputs": [],
   "source": [
    "ptn = DNA.translate()"
   ]
  },
  {
   "cell_type": "code",
   "execution_count": 14,
   "id": "55440b59",
   "metadata": {},
   "outputs": [
    {
     "name": "stdout",
     "output_type": "stream",
     "text": [
      "AUGCAGUAG\n"
     ]
    }
   ],
   "source": [
    "print(mRNA)"
   ]
  },
  {
   "cell_type": "code",
   "execution_count": 15,
   "id": "ed6fa8a2",
   "metadata": {},
   "outputs": [
    {
     "name": "stdout",
     "output_type": "stream",
     "text": [
      "MQ*\n"
     ]
    }
   ],
   "source": [
    "print(ptn)"
   ]
  },
  {
   "cell_type": "code",
   "execution_count": 16,
   "id": "29d63131",
   "metadata": {},
   "outputs": [],
   "source": [
    "mRNA2 = Seq(\"AUGAACUAAGUUUAGAAU\")"
   ]
  },
  {
   "cell_type": "code",
   "execution_count": 19,
   "id": "07937478",
   "metadata": {},
   "outputs": [],
   "source": [
    "ptn2 = mRNA2.translate()"
   ]
  },
  {
   "cell_type": "code",
   "execution_count": 20,
   "id": "7c5dfc40",
   "metadata": {},
   "outputs": [
    {
     "name": "stdout",
     "output_type": "stream",
     "text": [
      "MN*V*N\n"
     ]
    }
   ],
   "source": [
    "print(ptn2)"
   ]
  },
  {
   "cell_type": "code",
   "execution_count": 23,
   "id": "77d6e8df",
   "metadata": {},
   "outputs": [],
   "source": [
    "ptn2_1 = mRNA2.translate(to_stop=True)"
   ]
  },
  {
   "cell_type": "code",
   "execution_count": 24,
   "id": "3e8ffa39",
   "metadata": {},
   "outputs": [
    {
     "name": "stdout",
     "output_type": "stream",
     "text": [
      "MN\n"
     ]
    }
   ],
   "source": [
    "print(ptn2_1)"
   ]
  },
  {
   "cell_type": "code",
   "execution_count": 25,
   "id": "0b9d2e25",
   "metadata": {},
   "outputs": [
    {
     "name": "stdout",
     "output_type": "stream",
     "text": [
      "MN\n",
      "V\n",
      "N\n"
     ]
    }
   ],
   "source": [
    "for seq in ptn2.split(\"*\"):\n",
    "    print(seq)"
   ]
  },
  {
   "cell_type": "code",
   "execution_count": 26,
   "id": "01385899",
   "metadata": {},
   "outputs": [],
   "source": [
    "seq = \"TATAAAGGCAATATGCAGTAG\""
   ]
  },
  {
   "cell_type": "code",
   "execution_count": 27,
   "id": "ec21b3cf",
   "metadata": {},
   "outputs": [],
   "source": [
    "comp_dic = {'A':'T', 'C':'G', 'G':'C', 'T':'A'}"
   ]
  },
  {
   "cell_type": "code",
   "execution_count": 28,
   "id": "b42ae062",
   "metadata": {},
   "outputs": [],
   "source": [
    "comp_seq = \"\""
   ]
  },
  {
   "cell_type": "code",
   "execution_count": 29,
   "id": "a6486c0a",
   "metadata": {},
   "outputs": [],
   "source": [
    "for s in seq:\n",
    "    comp_seq += comp_dic[s]"
   ]
  },
  {
   "cell_type": "code",
   "execution_count": 30,
   "id": "2c6bea83",
   "metadata": {},
   "outputs": [],
   "source": [
    "revcomp_seq = comp_seq[::-1]"
   ]
  },
  {
   "cell_type": "code",
   "execution_count": 31,
   "id": "e1e899eb",
   "metadata": {},
   "outputs": [
    {
     "name": "stdout",
     "output_type": "stream",
     "text": [
      "ATATTTCCGTTATACGTCATC\n"
     ]
    }
   ],
   "source": [
    "print(comp_seq)"
   ]
  },
  {
   "cell_type": "code",
   "execution_count": 32,
   "id": "54b4eacd",
   "metadata": {},
   "outputs": [
    {
     "name": "stdout",
     "output_type": "stream",
     "text": [
      "CTACTGCATATTGCCTTTATA\n"
     ]
    }
   ],
   "source": [
    "print(revcomp_seq)"
   ]
  },
  {
   "cell_type": "code",
   "execution_count": 33,
   "id": "26ae945a",
   "metadata": {},
   "outputs": [],
   "source": [
    "SEQ = Seq(\"TATAAAGGCAATATGCAGTAG\")"
   ]
  },
  {
   "cell_type": "code",
   "execution_count": 34,
   "id": "adaeb9ee",
   "metadata": {},
   "outputs": [],
   "source": [
    "comp_seq2 = SEQ.complement()\n",
    "revcomp_seq2 = SEQ.reverse_complement()"
   ]
  },
  {
   "cell_type": "code",
   "execution_count": 35,
   "id": "317f5abb",
   "metadata": {},
   "outputs": [
    {
     "name": "stdout",
     "output_type": "stream",
     "text": [
      "ATATTTCCGTTATACGTCATC\n"
     ]
    }
   ],
   "source": [
    "print(comp_seq2)"
   ]
  },
  {
   "cell_type": "code",
   "execution_count": 36,
   "id": "4b9c4d32",
   "metadata": {},
   "outputs": [
    {
     "name": "stdout",
     "output_type": "stream",
     "text": [
      "CTACTGCATATTGCCTTTATA\n"
     ]
    }
   ],
   "source": [
    "print(revcomp_seq2)"
   ]
  },
  {
   "cell_type": "code",
   "execution_count": 37,
   "id": "a6918c1d",
   "metadata": {},
   "outputs": [],
   "source": [
    "from Bio.Data import CodonTable"
   ]
  },
  {
   "cell_type": "code",
   "execution_count": 39,
   "id": "27f5d4f7",
   "metadata": {},
   "outputs": [],
   "source": [
    "codon_T = CodonTable.unambiguous_dna_by_name[\"Standard\"]"
   ]
  },
  {
   "cell_type": "code",
   "execution_count": 40,
   "id": "3062d406",
   "metadata": {},
   "outputs": [
    {
     "name": "stdout",
     "output_type": "stream",
     "text": [
      "Table 1 Standard, SGC0\n",
      "\n",
      "  |  T      |  C      |  A      |  G      |\n",
      "--+---------+---------+---------+---------+--\n",
      "T | TTT F   | TCT S   | TAT Y   | TGT C   | T\n",
      "T | TTC F   | TCC S   | TAC Y   | TGC C   | C\n",
      "T | TTA L   | TCA S   | TAA Stop| TGA Stop| A\n",
      "T | TTG L(s)| TCG S   | TAG Stop| TGG W   | G\n",
      "--+---------+---------+---------+---------+--\n",
      "C | CTT L   | CCT P   | CAT H   | CGT R   | T\n",
      "C | CTC L   | CCC P   | CAC H   | CGC R   | C\n",
      "C | CTA L   | CCA P   | CAA Q   | CGA R   | A\n",
      "C | CTG L(s)| CCG P   | CAG Q   | CGG R   | G\n",
      "--+---------+---------+---------+---------+--\n",
      "A | ATT I   | ACT T   | AAT N   | AGT S   | T\n",
      "A | ATC I   | ACC T   | AAC N   | AGC S   | C\n",
      "A | ATA I   | ACA T   | AAA K   | AGA R   | A\n",
      "A | ATG M(s)| ACG T   | AAG K   | AGG R   | G\n",
      "--+---------+---------+---------+---------+--\n",
      "G | GTT V   | GCT A   | GAT D   | GGT G   | T\n",
      "G | GTC V   | GCC A   | GAC D   | GGC G   | C\n",
      "G | GTA V   | GCA A   | GAA E   | GGA G   | A\n",
      "G | GTG V   | GCG A   | GAG E   | GGG G   | G\n",
      "--+---------+---------+---------+---------+--\n"
     ]
    }
   ],
   "source": [
    "print(codon_T)"
   ]
  },
  {
   "cell_type": "code",
   "execution_count": 41,
   "id": "f14c902c",
   "metadata": {},
   "outputs": [
    {
     "name": "stdout",
     "output_type": "stream",
     "text": [
      "Table 2 Vertebrate Mitochondrial, SGC1\n",
      "\n",
      "  |  T      |  C      |  A      |  G      |\n",
      "--+---------+---------+---------+---------+--\n",
      "T | TTT F   | TCT S   | TAT Y   | TGT C   | T\n",
      "T | TTC F   | TCC S   | TAC Y   | TGC C   | C\n",
      "T | TTA L   | TCA S   | TAA Stop| TGA W   | A\n",
      "T | TTG L   | TCG S   | TAG Stop| TGG W   | G\n",
      "--+---------+---------+---------+---------+--\n",
      "C | CTT L   | CCT P   | CAT H   | CGT R   | T\n",
      "C | CTC L   | CCC P   | CAC H   | CGC R   | C\n",
      "C | CTA L   | CCA P   | CAA Q   | CGA R   | A\n",
      "C | CTG L   | CCG P   | CAG Q   | CGG R   | G\n",
      "--+---------+---------+---------+---------+--\n",
      "A | ATT I(s)| ACT T   | AAT N   | AGT S   | T\n",
      "A | ATC I(s)| ACC T   | AAC N   | AGC S   | C\n",
      "A | ATA M(s)| ACA T   | AAA K   | AGA Stop| A\n",
      "A | ATG M(s)| ACG T   | AAG K   | AGG Stop| G\n",
      "--+---------+---------+---------+---------+--\n",
      "G | GTT V   | GCT A   | GAT D   | GGT G   | T\n",
      "G | GTC V   | GCC A   | GAC D   | GGC G   | C\n",
      "G | GTA V   | GCA A   | GAA E   | GGA G   | A\n",
      "G | GTG V(s)| GCG A   | GAG E   | GGG G   | G\n",
      "--+---------+---------+---------+---------+--\n"
     ]
    }
   ],
   "source": [
    "codon_T_Mito = CodonTable.unambiguous_dna_by_name[\"Vertebrate Mitochondrial\"]\n",
    "print(codon_T_Mito)"
   ]
  },
  {
   "cell_type": "code",
   "execution_count": 42,
   "id": "2d61e0cf",
   "metadata": {},
   "outputs": [
    {
     "name": "stdout",
     "output_type": "stream",
     "text": [
      "ATGCAGTAG\n"
     ]
    }
   ],
   "source": [
    "tata_seq = Seq(\"tataaaggcAATATGCAGTAG\")\n",
    "start_idx = tata_seq.find(\"ATG\") #서열에서 시작 코돈(ATG) 탐색\n",
    "end_idx = tata_seq.find(\"TAG\", start_idx) #편의 상 예문 서열에 사용된 종결 코돈(TAG) 사용\n",
    "orf = tata_seq[start_idx:end_idx+3] #파이썬 문자열 슬라이싱과 같은 방법으로 슬라이싱\n",
    "print(orf)"
   ]
  },
  {
   "cell_type": "code",
   "execution_count": 43,
   "id": "3ae7b880",
   "metadata": {},
   "outputs": [
    {
     "name": "stdout",
     "output_type": "stream",
     "text": [
      "12\n"
     ]
    }
   ],
   "source": [
    "print(start_idx)"
   ]
  },
  {
   "cell_type": "code",
   "execution_count": 44,
   "id": "21f7df5c",
   "metadata": {},
   "outputs": [
    {
     "name": "stdout",
     "output_type": "stream",
     "text": [
      "18\n"
     ]
    }
   ],
   "source": [
    "print(end_idx)"
   ]
  },
  {
   "cell_type": "code",
   "execution_count": 46,
   "id": "6ae7ad69",
   "metadata": {},
   "outputs": [
    {
     "name": "stdout",
     "output_type": "stream",
     "text": [
      "44.44444444444444\n"
     ]
    }
   ],
   "source": [
    "from Bio.SeqUtils import GC\n",
    "exon_seq = Seq(\"ATGCAGTAG\")\n",
    "gc_con = GC(exon_seq)\n",
    "print(gc_con)"
   ]
  },
  {
   "cell_type": "code",
   "execution_count": 47,
   "id": "55ba78f8",
   "metadata": {},
   "outputs": [
    {
     "name": "stdout",
     "output_type": "stream",
     "text": [
      "2842.8206999999993\n"
     ]
    }
   ],
   "source": [
    "from Bio.SeqUtils import molecular_weight\n",
    "seq1 = Seq(\"ATGCAGTAG\")\n",
    "print(molecular_weight(seq1, seq_type='DNA'))"
   ]
  },
  {
   "cell_type": "code",
   "execution_count": 48,
   "id": "aa328dab",
   "metadata": {},
   "outputs": [
    {
     "name": "stdout",
     "output_type": "stream",
     "text": [
      "707.7536\n"
     ]
    }
   ],
   "source": [
    "print(molecular_weight(seq1, seq_type='protein'))"
   ]
  },
  {
   "cell_type": "code",
   "execution_count": 53,
   "id": "552ba6a5",
   "metadata": {},
   "outputs": [
    {
     "name": "stdout",
     "output_type": "stream",
     "text": [
      "2958.7621\n"
     ]
    }
   ],
   "source": [
    "RNA_weight = seq1.transcribe()\n",
    "\n",
    "print(molecular_weight(RNA_weight, seq_type='RNA'))"
   ]
  },
  {
   "cell_type": "code",
   "execution_count": 54,
   "id": "bbf7cc38",
   "metadata": {},
   "outputs": [],
   "source": [
    "from Bio.SeqUtils import six_frame_translations"
   ]
  },
  {
   "cell_type": "code",
   "execution_count": 55,
   "id": "a9ef66da",
   "metadata": {},
   "outputs": [
    {
     "name": "stdout",
     "output_type": "stream",
     "text": [
      "GC_Frame: a:6 t:6 g:4 c:2 \n",
      "Sequence: atgccttgaaatgtatag, 18 nt, 33.33 %GC\n",
      "\n",
      "\n",
      "1/1\n",
      "  A  L  K  C  I\n",
      " C  L  E  M  Y\n",
      "M  P  *  N  V  *\n",
      "atgccttgaaatgtatag   33 %\n",
      "tacggaactttacatatc\n",
      "G  Q  F  T  Y \n",
      " H  R  S  I  Y  L\n",
      "  A  K  F  H  I\n",
      "\n",
      "\n"
     ]
    }
   ],
   "source": [
    "trans_seq = Seq(\"ATGCCTTGAAATGTATAG\")\n",
    "print(six_frame_translations(trans_seq))"
   ]
  },
  {
   "cell_type": "code",
   "execution_count": 56,
   "id": "e3f2877d",
   "metadata": {},
   "outputs": [],
   "source": [
    "from Bio.SeqUtils import MeltingTemp as mt"
   ]
  },
  {
   "cell_type": "code",
   "execution_count": 57,
   "id": "d3d27923",
   "metadata": {},
   "outputs": [
    {
     "name": "stdout",
     "output_type": "stream",
     "text": [
      "56.0\n"
     ]
    }
   ],
   "source": [
    "print(mt.Tm_Wallace(seq))"
   ]
  },
  {
   "cell_type": "code",
   "execution_count": 58,
   "id": "8f9b106b",
   "metadata": {},
   "outputs": [
    {
     "name": "stdout",
     "output_type": "stream",
     "text": [
      "LKMVITWF\n"
     ]
    }
   ],
   "source": [
    "from Bio.SeqUtils import seq1\n",
    "amino = \"LeuLysMetValIleThrTrpPhe\"\n",
    "print(seq1(amino))"
   ]
  },
  {
   "cell_type": "code",
   "execution_count": 59,
   "id": "c5a686a3",
   "metadata": {},
   "outputs": [],
   "source": [
    "from Bio.SeqUtils import seq3"
   ]
  },
  {
   "cell_type": "code",
   "execution_count": 62,
   "id": "049a6a67",
   "metadata": {},
   "outputs": [
    {
     "name": "stdout",
     "output_type": "stream",
     "text": [
      "LeuLysMetValIleThrTrpPhe\n"
     ]
    }
   ],
   "source": [
    "amino_S = \"LKMVITWF\"\n",
    "print(seq3(amino_S))"
   ]
  },
  {
   "cell_type": "code",
   "execution_count": null,
   "id": "bfe8df4a",
   "metadata": {},
   "outputs": [],
   "source": []
  }
 ],
 "metadata": {
  "kernelspec": {
   "display_name": "Python 3 (ipykernel)",
   "language": "python",
   "name": "python3"
  },
  "language_info": {
   "codemirror_mode": {
    "name": "ipython",
    "version": 3
   },
   "file_extension": ".py",
   "mimetype": "text/x-python",
   "name": "python",
   "nbconvert_exporter": "python",
   "pygments_lexer": "ipython3",
   "version": "3.9.12"
  }
 },
 "nbformat": 4,
 "nbformat_minor": 5
}
